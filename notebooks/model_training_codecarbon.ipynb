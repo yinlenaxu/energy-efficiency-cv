{
 "cells": [
  {
   "cell_type": "markdown",
   "metadata": {
    "id": "Xzox9T71lIN7"
   },
   "source": [
    "# Imports"
   ]
  },
  {
   "cell_type": "code",
   "execution_count": null,
   "metadata": {
    "colab": {
     "base_uri": "https://localhost:8080/"
    },
    "executionInfo": {
     "elapsed": 17217,
     "status": "ok",
     "timestamp": 1653922485988,
     "user": {
      "displayName": "Yinlena Xu",
      "userId": "03970119437268091254"
     },
     "user_tz": -120
    },
    "id": "DLKtuxBo3U24",
    "outputId": "0f5647c3-498a-4cbc-ef32-c0c9fd73d123"
   },
   "outputs": [],
   "source": [
    "!pip install codecarbon\n",
    "!pip install keras-flops"
   ]
  },
  {
   "cell_type": "code",
   "execution_count": null,
   "metadata": {
    "id": "8ldZe6OlwiuP"
   },
   "outputs": [],
   "source": [
    "import numpy as np\n",
    "import tensorflow as tf\n",
    "from tensorflow import keras\n",
    "from tensorflow.keras import layers\n",
    "from keras.datasets import cifar10, mnist\n",
    "from keras.preprocessing.image import img_to_array, array_to_img\n",
    "from keras.preprocessing.image import ImageDataGenerator\n",
    "from keras.applications.vgg16 import VGG16\n",
    "from keras.applications.vgg19 import VGG19\n",
    "from keras.applications.xception import Xception\n",
    "from tensorflow.keras.applications.resnet50 import ResNet50\n",
    "from keras.applications.imagenet_utils import decode_predictions\n",
    "from keras.models import Sequential\n",
    "from keras.layers import Dense, Conv2D, MaxPooling2D, Flatten, Dropout, GlobalAveragePooling2D\n",
    "from keras.models import Model\n",
    "from codecarbon import EmissionsTracker\n",
    "from keras_flops import get_flops"
   ]
  },
  {
   "cell_type": "markdown",
   "metadata": {
    "id": "w1mMNvsMg57H"
   },
   "source": [
    "# Input Data and Data Augmentation"
   ]
  },
  {
   "cell_type": "code",
   "execution_count": null,
   "metadata": {
    "id": "ryNd4VDZp75W"
   },
   "outputs": [],
   "source": [
    "import ssl\n",
    "ssl._create_default_https_context = ssl._create_unverified_context"
   ]
  },
  {
   "cell_type": "code",
   "execution_count": null,
   "metadata": {
    "colab": {
     "base_uri": "https://localhost:8080/"
    },
    "executionInfo": {
     "elapsed": 1378,
     "status": "ok",
     "timestamp": 1653603208293,
     "user": {
      "displayName": "Yinlena Xu",
      "userId": "03970119437268091254"
     },
     "user_tz": -120
    },
    "id": "tnuncC5Ds5dP",
    "outputId": "6e0fd74f-601c-4ae5-8ddc-abd8c8d0b6a1"
   },
   "outputs": [],
   "source": [
    "# Load the CIFAR10 data\n",
    "(x_train, y_train), (x_test, y_test) = cifar10.load_data()\n",
    "\n",
    "# Input image dimensions and classes\n",
    "input_shape = x_train.shape[1:]\n",
    "num_classes = 10\n",
    "\n",
    "# Target one-hot vectorization\n",
    "y_train = keras.utils.to_categorical(y_train, num_classes)\n",
    "y_test = keras.utils.to_categorical(y_test, num_classes)\n",
    "\n",
    "# Normalize data\n",
    "x_train = x_train.astype('float32') / 255\n",
    "x_test = x_test.astype('float32') / 255\n",
    "\n",
    "print(input_shape)"
   ]
  },
  {
   "cell_type": "code",
   "execution_count": null,
   "metadata": {
    "colab": {
     "base_uri": "https://localhost:8080/"
    },
    "executionInfo": {
     "elapsed": 13524,
     "status": "ok",
     "timestamp": 1653603057480,
     "user": {
      "displayName": "Yinlena Xu",
      "userId": "03970119437268091254"
     },
     "user_tz": -120
    },
    "id": "FiqR-moe0lGo",
    "outputId": "e4947ed8-5887-4825-bbc5-c34e2766c4d5"
   },
   "outputs": [],
   "source": [
    "# Load the MNIST data\n",
    "(x_train, y_train), (x_test, y_test) = mnist.load_data()\n",
    "x_train = np.dstack([x_train] * 3)\n",
    "x_train = x_train.reshape(-1, 28,28,3)\n",
    "x_train = np.asarray([img_to_array(array_to_img(im, scale=False).resize((48,48))) for im in x_train])\n",
    "x_test = np.dstack([x_test] * 3)\n",
    "x_test = x_test.reshape(-1, 28,28,3)\n",
    "x_test = np.asarray([img_to_array(array_to_img(im, scale=False).resize((48,48))) for im in x_test])\n",
    "\n",
    "# Input image dimensions and classes\n",
    "input_shape = x_train.shape[1:]\n",
    "num_classes = 10\n",
    "\n",
    "# Target one-hot vectorization\n",
    "y_train = keras.utils.to_categorical(y_train, num_classes)\n",
    "y_test = keras.utils.to_categorical(y_test, num_classes)\n",
    "\n",
    "# Normalize data\n",
    "x_train = x_train.astype('float32') / 255\n",
    "x_test = x_test.astype('float32') / 255\n",
    "\n",
    "print(input_shape)"
   ]
  },
  {
   "cell_type": "code",
   "execution_count": null,
   "metadata": {
    "id": "i1FKIIlJtuQF"
   },
   "outputs": [],
   "source": [
    "datagen = ImageDataGenerator(\n",
    "    featurewise_center=False,  # set input mean to 0 over the dataset\n",
    "    samplewise_center=False,  # set each sample mean to 0\n",
    "    featurewise_std_normalization=False,  # divide inputs by std of the dataset\n",
    "    samplewise_std_normalization=False,  # divide each input by its std\n",
    "    zca_whitening=False,  # apply ZCA whitening\n",
    "    rotation_range=15,  # randomly rotate images in the range (degrees, 0 to 180)\n",
    "    width_shift_range=0.1,  # randomly shift images horizontally (fraction of total width)\n",
    "    height_shift_range=0.1,  # randomly shift images vertically (fraction of total height)\n",
    "    horizontal_flip=True,  # randomly flip images\n",
    "    vertical_flip=False\n",
    ")  # randomly flip images\n",
    "        \n",
    "# (std, mean, and principal components if ZCA whitening is applied).\n",
    "datagen.fit(x_train)"
   ]
  },
  {
   "cell_type": "markdown",
   "metadata": {
    "id": "KGNDNyee0LSi"
   },
   "source": [
    "# Models"
   ]
  },
  {
   "cell_type": "code",
   "execution_count": null,
   "metadata": {
    "id": "uK2Hgu4b0J2J"
   },
   "outputs": [],
   "source": [
    "# Parameters \n",
    "batch_size = 32\n",
    "epochs = 50\n",
    "optimizer = 'adam'"
   ]
  },
  {
   "cell_type": "markdown",
   "metadata": {
    "id": "kSIEV7m5i02U"
   },
   "source": [
    "## VGG16"
   ]
  },
  {
   "cell_type": "code",
   "execution_count": null,
   "metadata": {
    "colab": {
     "base_uri": "https://localhost:8080/"
    },
    "executionInfo": {
     "elapsed": 446,
     "status": "ok",
     "timestamp": 1653603061211,
     "user": {
      "displayName": "Yinlena Xu",
      "userId": "03970119437268091254"
     },
     "user_tz": -120
    },
    "id": "7J1btS1W3JBP",
    "outputId": "c7e1c919-a867-44d3-d5ca-37afb7cc4255"
   },
   "outputs": [],
   "source": [
    "# Import pre-trained layers\n",
    "base_model_vgg16 = VGG16(weights='imagenet', include_top=False, input_shape=input_shape) \n",
    " \n",
    "# Freeze convolutional layers\n",
    "for layer in base_model_vgg16.layers:\n",
    "    layer.trainable = False    \n",
    "\n",
    "# Establish new fully connected block\n",
    "x = base_model_vgg16.output\n",
    "x = Flatten()(x)  # flatten from convolution tensor output  \n",
    "x = Dense(4096, activation='relu')(x) # number of layers and units are hyperparameters, as usual\n",
    "x = Dense(4096, activation='relu')(x)\n",
    "x = Dropout(0.5)(x)\n",
    "predictions = Dense(num_classes, activation='softmax')(x) # should match # of classes predicted\n",
    "\n",
    "# This is the model we will train\n",
    "model_vgg16 = Model(inputs=base_model_vgg16.input, outputs=predictions)\n",
    "model_vgg16.compile(optimizer=optimizer, loss='categorical_crossentropy', metrics=['accuracy'])\n",
    "model_vgg16.summary()"
   ]
  },
  {
   "cell_type": "markdown",
   "metadata": {
    "id": "SCSYZAXrkK40"
   },
   "source": [
    "## VGG19\n"
   ]
  },
  {
   "cell_type": "code",
   "execution_count": null,
   "metadata": {
    "colab": {
     "base_uri": "https://localhost:8080/"
    },
    "executionInfo": {
     "elapsed": 705,
     "status": "ok",
     "timestamp": 1653603061911,
     "user": {
      "displayName": "Yinlena Xu",
      "userId": "03970119437268091254"
     },
     "user_tz": -120
    },
    "id": "wopOBbpwvftf",
    "outputId": "2b3c91d4-5532-426c-e29f-2ad68a2003f7"
   },
   "outputs": [],
   "source": [
    "# Import pre-trained layers\n",
    "base_model_vgg19 = VGG19(weights='imagenet', include_top=False, input_shape=input_shape) \n",
    " \n",
    "# Freeze convolutional layers\n",
    "for layer in base_model_vgg19.layers:\n",
    "    layer.trainable = False    \n",
    "\n",
    "# Establish new fully connected block\n",
    "x = base_model_vgg19.output\n",
    "x = Flatten()(x)  # flatten from convolution tensor output  \n",
    "x = Dense(4096, activation='relu')(x) # number of layers and units are hyperparameters, as usual\n",
    "x = Dense(4096, activation='relu')(x)\n",
    "x = Dropout(0.5)(x)\n",
    "predictions = Dense(num_classes, activation='softmax')(x) # should match # of classes predicted\n",
    "\n",
    "# this is the model we will train\n",
    "model_vgg19 = Model(inputs=base_model_vgg19.input, outputs=predictions)\n",
    "model_vgg19.compile(optimizer=optimizer, loss='categorical_crossentropy', metrics=['accuracy'])\n",
    "model_vgg19.summary()"
   ]
  },
  {
   "cell_type": "markdown",
   "metadata": {
    "id": "4ESfybwS1P-o"
   },
   "source": [
    "## ResNet"
   ]
  },
  {
   "cell_type": "code",
   "execution_count": null,
   "metadata": {
    "colab": {
     "base_uri": "https://localhost:8080/"
    },
    "executionInfo": {
     "elapsed": 3405,
     "status": "ok",
     "timestamp": 1653603220462,
     "user": {
      "displayName": "Yinlena Xu",
      "userId": "03970119437268091254"
     },
     "user_tz": -120
    },
    "id": "mJ3oiPFT1Rid",
    "outputId": "9b68315d-6769-4e02-e6c9-d1607588210d"
   },
   "outputs": [],
   "source": [
    "# Import pre-trained layers\n",
    "base_model_resnet50 = ResNet50(weights='imagenet', include_top=False, input_shape=input_shape) \n",
    " \n",
    "# Freeze convolutional layers\n",
    "for layer in base_model_resnet50.layers:\n",
    "    layer.trainable = False    \n",
    "\n",
    "# Establish new fully connected block\n",
    "x = base_model_resnet50.output\n",
    "x = Flatten()(x)  # flatten from convolution tensor output  \n",
    "x = Dense(4096, activation='relu')(x) # number of layers and units are hyperparameters, as usual\n",
    "x = Dense(4096, activation='relu')(x)\n",
    "x = Dropout(0.5)(x)\n",
    "predictions = Dense(num_classes, activation='softmax')(x) # should match # of classes predicted\n",
    "\n",
    "# This is the model we will train\n",
    "model_resnet50 = Model(inputs=base_model_resnet50.input, outputs=predictions)\n",
    "model_resnet50.compile(optimizer=optimizer, loss='categorical_crossentropy', metrics=['accuracy'])\n",
    "model_resnet50.summary()"
   ]
  },
  {
   "cell_type": "markdown",
   "metadata": {
    "id": "tHFklyF2O-h1"
   },
   "source": [
    "# [kera-flops](https://pypi.org/project/keras-flops/)"
   ]
  },
  {
   "cell_type": "code",
   "execution_count": null,
   "metadata": {
    "colab": {
     "base_uri": "https://localhost:8080/"
    },
    "executionInfo": {
     "elapsed": 8776,
     "status": "ok",
     "timestamp": 1653603073953,
     "user": {
      "displayName": "Yinlena Xu",
      "userId": "03970119437268091254"
     },
     "user_tz": -120
    },
    "id": "FWpgoDeXP-6V",
    "outputId": "ca7fc38e-3b78-4b07-ffac-317f53216885"
   },
   "outputs": [],
   "source": [
    "# Models\n",
    "flops = get_flops(model_vgg16, batch_size=batch_size)\n",
    "print(f\"FLOPS VGG16:    {flops / 10 ** 9:.03} G - {flops}\")\n",
    "\n",
    "flops = get_flops(model_vgg19, batch_size=batch_size)\n",
    "print(f\"FLOPS VGG19:    {flops / 10 ** 9:.03} G - {flops}\")\n",
    "\n",
    "flops = get_flops(model_resnet50, batch_size=batch_size)\n",
    "print(f\"FLOPS ResNet50: {flops / 10 ** 9:.03} G - {flops}\")"
   ]
  },
  {
   "cell_type": "code",
   "execution_count": null,
   "metadata": {
    "colab": {
     "base_uri": "https://localhost:8080/"
    },
    "executionInfo": {
     "elapsed": 12648,
     "status": "ok",
     "timestamp": 1653603086584,
     "user": {
      "displayName": "Yinlena Xu",
      "userId": "03970119437268091254"
     },
     "user_tz": -120
    },
    "id": "Xh0kGYlyPJhw",
    "outputId": "cd5f66f8-4c7a-4d5e-e66e-0eed319defd7"
   },
   "outputs": [],
   "source": [
    "# Trainable Layer\n",
    "flops = get_flops(model_vgg16, batch_size=batch_size) - get_flops(base_model_vgg16, batch_size=batch_size)\n",
    "print(f\"FLOPS VGG16:    {flops / 10 ** 9:.03} G - {flops}\")\n",
    "\n",
    "flops = get_flops(model_vgg19, batch_size=batch_size) - get_flops(base_model_vgg19, batch_size=batch_size)\n",
    "print(f\"FLOPS VGG19:    {flops / 10 ** 9:.03} G - {flops}\")\n",
    "\n",
    "flops = get_flops(model_resnet50, batch_size=batch_size) - get_flops(base_model_resnet50, batch_size=batch_size)\n",
    "print(f\"FLOPS ResNet50: {flops / 10 ** 9:.03} G - {flops}\")"
   ]
  },
  {
   "cell_type": "markdown",
   "metadata": {
    "id": "KIcb4U_1tMcw"
   },
   "source": [
    "# [Codecarbon](https://github.com/mlco2/codecarbon)"
   ]
  },
  {
   "cell_type": "code",
   "execution_count": null,
   "metadata": {
    "colab": {
     "base_uri": "https://localhost:8080/"
    },
    "id": "h2ZCIKc_soHx",
    "outputId": "383077a2-6808-4a6c-8c22-2cd53213d80f"
   },
   "outputs": [],
   "source": [
    "tracker = EmissionsTracker()\n",
    "\n",
    "# Train VGG16\n",
    "for i in range(3):\n",
    "  tracker.start()\n",
    "  history_vgg16 = model_vgg16.fit_generator(\n",
    "      datagen.flow(x_train, y_train, batch_size=batch_size), \n",
    "      epochs=epochs,\n",
    "      verbose = 1,\n",
    "      validation_data = (x_test, y_test)\n",
    "  )\n",
    "  tracker.stop()"
   ]
  },
  {
   "cell_type": "code",
   "execution_count": null,
   "metadata": {
    "id": "4JVkZlDAg3Vq"
   },
   "outputs": [],
   "source": [
    "tracker = EmissionsTracker()\n",
    "\n",
    "# Train VGG19\n",
    "for i in range(3):\n",
    "  tracker.start()\n",
    "  history_vgg19 = model_vgg19.fit_generator(\n",
    "      datagen.flow(x_train, y_train, batch_size=batch_size), \n",
    "      epochs=epochs,\n",
    "      verbose = 1,\n",
    "      validation_data = (x_test, y_test)\n",
    "  )\n",
    "  tracker.stop()"
   ]
  },
  {
   "cell_type": "code",
   "execution_count": null,
   "metadata": {
    "id": "6NiTJkx-g4xo"
   },
   "outputs": [],
   "source": [
    "tracker = EmissionsTracker()\n",
    "\n",
    "# Train ResNet50\n",
    "for i in range(3):\n",
    "  tracker.start()\n",
    "  history_resnet50 = model_resnet50.fit_generator(\n",
    "      datagen.flow(x_train, y_train, batch_size=batch_size), \n",
    "      epochs=epochs,\n",
    "      verbose = 1,\n",
    "      validation_data = (x_test, y_test)\n",
    "  )\n",
    "  tracker.stop()"
   ]
  }
 ],
 "metadata": {
  "accelerator": "GPU",
  "colab": {
   "collapsed_sections": [
    "Xzox9T71lIN7",
    "w1mMNvsMg57H",
    "KGNDNyee0LSi"
   ],
   "name": "chesslive_codecarbon.ipynb",
   "provenance": []
  },
  "kernelspec": {
   "display_name": "Python 3",
   "language": "python",
   "name": "python3"
  },
  "language_info": {
   "codemirror_mode": {
    "name": "ipython",
    "version": 3
   },
   "file_extension": ".py",
   "mimetype": "text/x-python",
   "name": "python",
   "nbconvert_exporter": "python",
   "pygments_lexer": "ipython3",
   "version": "3.8.10"
  }
 },
 "nbformat": 4,
 "nbformat_minor": 1
}
